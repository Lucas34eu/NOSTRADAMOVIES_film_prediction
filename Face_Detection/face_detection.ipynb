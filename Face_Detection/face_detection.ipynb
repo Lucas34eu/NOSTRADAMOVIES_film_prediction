{
 "cells": [
  {
   "cell_type": "code",
   "execution_count": 1,
   "metadata": {},
   "outputs": [
    {
     "name": "stderr",
     "output_type": "stream",
     "text": [
      "Action: emotion: 100%|██████████| 1/1 [00:00<00:00,  1.76it/s]\n",
      "Action: emotion: 100%|██████████| 1/1 [00:00<00:00, 16.67it/s]"
     ]
    },
    {
     "name": "stdout",
     "output_type": "stream",
     "text": [
      "angry\n",
      "happy\n"
     ]
    },
    {
     "name": "stderr",
     "output_type": "stream",
     "text": [
      "\n"
     ]
    }
   ],
   "source": [
    "from deepface import DeepFace\n",
    "import cv2\n",
    "\n",
    "# Charger l'image\n",
    "img = cv2.imread('img/double_face.jpg')\n",
    "\n",
    "# Vérifier que l'image est lue correctement\n",
    "if img is None:\n",
    "    print(\"Erreur de lecture de l'image\")\n",
    "else:\n",
    "    # Analyser l'émotion de la personne sur l'image\n",
    "    result = DeepFace.analyze(img, actions=['emotion'])\n",
    "\n",
    "# Afficher le résultat\n",
    "for num in result:\n",
    "    print(num[\"dominant_emotion\"])"
   ]
  }
 ],
 "metadata": {
  "kernelspec": {
   "display_name": "Python 3",
   "language": "python",
   "name": "python3"
  },
  "language_info": {
   "codemirror_mode": {
    "name": "ipython",
    "version": 3
   },
   "file_extension": ".py",
   "mimetype": "text/x-python",
   "name": "python",
   "nbconvert_exporter": "python",
   "pygments_lexer": "ipython3",
   "version": "3.11.3"
  },
  "orig_nbformat": 4
 },
 "nbformat": 4,
 "nbformat_minor": 2
}
