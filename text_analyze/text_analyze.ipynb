{
 "cells": [
  {
   "cell_type": "code",
   "execution_count": 1,
   "metadata": {},
   "outputs": [
    {
     "name": "stderr",
     "output_type": "stream",
     "text": [
      "[nltk_data] Downloading package vader_lexicon to\n",
      "[nltk_data]     C:\\Users\\Lucas\\AppData\\Roaming\\nltk_data...\n",
      "[nltk_data]   Package vader_lexicon is already up-to-date!\n",
      "[nltk_data] Error loading sentiment_lexicons: Package\n",
      "[nltk_data]     'sentiment_lexicons' not found in index\n",
      "[nltk_data] Downloading package stopwords to\n",
      "[nltk_data]     C:\\Users\\Lucas\\AppData\\Roaming\\nltk_data...\n",
      "[nltk_data]   Package stopwords is already up-to-date!\n",
      "[nltk_data] Downloading package movie_reviews to\n",
      "[nltk_data]     C:\\Users\\Lucas\\AppData\\Roaming\\nltk_data...\n",
      "[nltk_data]   Package movie_reviews is already up-to-date!\n"
     ]
    },
    {
     "data": {
      "text/plain": [
       "True"
      ]
     },
     "execution_count": 1,
     "metadata": {},
     "output_type": "execute_result"
    }
   ],
   "source": [
    "import nltk\n",
    "import random\n",
    "from nltk.corpus import stopwords\n",
    "from nltk.tokenize import word_tokenize\n",
    "from nltk.classify import NaiveBayesClassifier\n",
    "from nltk.sentiment import SentimentIntensityAnalyzer\n",
    "from nltk.sentiment.util import *\n",
    "\n",
    "# Télécharger les ressources nécessaires pour l'analyse de sentiment\n",
    "nltk.download('vader_lexicon')\n",
    "# Télécharger les ressources nécessaires pour l'analyse de sentiment en français\n",
    "nltk.download('sentiment_lexicons')\n",
    "nltk.download('stopwords')\n",
    "nltk.download('movie_reviews')\n",
    "\n",
    "\n"
   ]
  },
  {
   "attachments": {},
   "cell_type": "markdown",
   "metadata": {},
   "source": [
    "Analyze du texte en anglais\n"
   ]
  },
  {
   "cell_type": "code",
   "execution_count": 2,
   "metadata": {},
   "outputs": [],
   "source": [
    "def getSentimentText(TextVariable):\n",
    "    # Initialiser le sentiment analyzer\n",
    "    analyzer = SentimentIntensityAnalyzer()\n",
    "\n",
    "    # Analyser le sentiment du texte\n",
    "    sentiment = analyzer.polarity_scores(TextVariable)\n",
    "\n",
    "    # Afficher le résultat\n",
    "    return max(sentiment)+' : '+ str(sentiment[max(sentiment)]),sentiment\n",
    "    \n",
    "\n"
   ]
  },
  {
   "attachments": {},
   "cell_type": "markdown",
   "metadata": {},
   "source": [
    "Analyze du texte en francais \n"
   ]
  },
  {
   "cell_type": "code",
   "execution_count": 3,
   "metadata": {},
   "outputs": [],
   "source": [
    "\n",
    "def getSentimentTextFrench (textVariable):\n",
    "    \n",
    "    # Charger l'analyseur de sentiment\n",
    "    sia = SentimentIntensityAnalyzer()\n",
    "    # Définir un ensemble de stopwords en français\n",
    "    stop_words = set(stopwords.words('french'))\n",
    "    \n",
    "    # Analyser le sentiment d'un texte en français\n",
    "    \n",
    "    words = word_tokenize(textVariable, language='french')\n",
    "    filtered_words = [word for word in words if not word.lower() in stop_words]\n",
    "    filtered_text = ' '.join(filtered_words)\n",
    "    polarity_scores = sia.polarity_scores(filtered_text)\n",
    "\n",
    "    # Afficher le résultat\n",
    "    return max(polarity_scores)+' : '+ str(polarity_scores[max(polarity_scores)]),polarity_scores"
   ]
  },
  {
   "attachments": {},
   "cell_type": "markdown",
   "metadata": {},
   "source": [
    "Test des fonctions"
   ]
  },
  {
   "cell_type": "code",
   "execution_count": 4,
   "metadata": {},
   "outputs": [
    {
     "data": {
      "text/plain": [
       "('pos : 0.425', {'neg': 0.0, 'neu': 0.575, 'pos': 0.425, 'compound': 0.5719})"
      ]
     },
     "execution_count": 4,
     "metadata": {},
     "output_type": "execute_result"
    }
   ],
   "source": [
    "getSentimentTextFrench(\"Je suis très content de mon achat. C'est un excellent produit.\")\n"
   ]
  },
  {
   "cell_type": "code",
   "execution_count": 5,
   "metadata": {},
   "outputs": [
    {
     "data": {
      "text/plain": [
       "('pos : 0.853', {'neg': 0.0, 'neu': 0.147, 'pos': 0.853, 'compound': 0.7003})"
      ]
     },
     "execution_count": 5,
     "metadata": {},
     "output_type": "execute_result"
    }
   ],
   "source": [
    "getSentimentText(\"The great escape\")"
   ]
  }
 ],
 "metadata": {
  "kernelspec": {
   "display_name": "Python 3",
   "language": "python",
   "name": "python3"
  },
  "language_info": {
   "codemirror_mode": {
    "name": "ipython",
    "version": 3
   },
   "file_extension": ".py",
   "mimetype": "text/x-python",
   "name": "python",
   "nbconvert_exporter": "python",
   "pygments_lexer": "ipython3",
   "version": "3.11.3"
  },
  "orig_nbformat": 4
 },
 "nbformat": 4,
 "nbformat_minor": 2
}
